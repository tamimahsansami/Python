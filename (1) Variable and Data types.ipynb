{
 "cells": [
  {
   "cell_type": "code",
   "execution_count": 1,
   "id": "1e2f315c-0b50-467d-b3cb-ec8ffeb7f508",
   "metadata": {},
   "outputs": [
    {
     "name": "stdout",
     "output_type": "stream",
     "text": [
      "hello world\n"
     ]
    }
   ],
   "source": [
    "print(\"hello world\")"
   ]
  },
  {
   "cell_type": "code",
   "execution_count": 5,
   "id": "af24a1f9-0763-4958-8f02-c4e7871b0672",
   "metadata": {},
   "outputs": [
    {
     "name": "stdout",
     "output_type": "stream",
     "text": [
      "My name is Sami. I am 22 years old\n"
     ]
    }
   ],
   "source": [
    "print(\"My name is Sami.\", \"I am 22 years old\")"
   ]
  },
  {
   "cell_type": "markdown",
   "id": "c39aba0c-c78c-465d-be3f-c2ef588533d6",
   "metadata": {},
   "source": [
    "# Variables"
   ]
  },
  {
   "cell_type": "code",
   "execution_count": 7,
   "id": "b705026d-c4ed-4881-b602-a586e66f76aa",
   "metadata": {},
   "outputs": [
    {
     "name": "stdout",
     "output_type": "stream",
     "text": [
      "TamimSami\n"
     ]
    }
   ],
   "source": [
    "# string\n",
    "x=\"Tamim\"\n",
    "y=\"Sami\"\n",
    "print(x+y)"
   ]
  },
  {
   "cell_type": "code",
   "execution_count": 9,
   "id": "bb89fb6d-7c00-4f5f-97bc-5d24079c4d30",
   "metadata": {},
   "outputs": [
    {
     "name": "stdout",
     "output_type": "stream",
     "text": [
      "30\n"
     ]
    }
   ],
   "source": [
    "# integer\n",
    "a=10\n",
    "b=20\n",
    "print(a+b)"
   ]
  },
  {
   "cell_type": "code",
   "execution_count": 19,
   "id": "98c07205-237b-49dd-8aba-5ee5c8930c97",
   "metadata": {},
   "outputs": [
    {
     "name": "stdout",
     "output_type": "stream",
     "text": [
      "38.8\n"
     ]
    }
   ],
   "source": [
    "# float\n",
    "m=10.30\n",
    "n=28.5\n",
    "print(m+n)\n",
    "\n",
    "# boolen\n",
    "p=False"
   ]
  },
  {
   "cell_type": "code",
   "execution_count": 21,
   "id": "e195569a-43ef-4783-8e26-7a5371089fb2",
   "metadata": {},
   "outputs": [
    {
     "name": "stdout",
     "output_type": "stream",
     "text": [
      "<class 'str'>\n",
      "<class 'int'>\n",
      "<class 'float'>\n",
      "<class 'bool'>\n"
     ]
    }
   ],
   "source": [
    "print(type(x))\n",
    "print(type(a))\n",
    "print(type(m))\n",
    "print(type(p))"
   ]
  },
  {
   "cell_type": "markdown",
   "id": "afcd9a81-b176-4c8f-9f58-b5beea830706",
   "metadata": {},
   "source": [
    "# Keywords"
   ]
  },
  {
   "cell_type": "raw",
   "id": "d17736a1-e7b2-47d6-8489-660bf5644db8",
   "metadata": {},
   "source": [
    "Keywords, the built in function, we cann't use as a variable\n",
    "\n",
    "and, else, in, return, as, except, is, True, assert, finally, lambda, try, break, False, noniocal, with, class, for, None, while, continue, from, not, yield, def, global, or, del, if, pass, elif, import, raise"
   ]
  },
  {
   "cell_type": "code",
   "execution_count": 23,
   "id": "8a8bffb3-26f4-43eb-84cf-01968a7563df",
   "metadata": {},
   "outputs": [
    {
     "name": "stdout",
     "output_type": "stream",
     "text": [
      "-100\n"
     ]
    }
   ],
   "source": [
    "a=100\n",
    "b=200\n",
    "dif=a-b\n",
    "print(dif)"
   ]
  },
  {
   "cell_type": "markdown",
   "id": "28492b33-3bca-4bd7-a655-39255da2742c",
   "metadata": {},
   "source": [
    "# Operators"
   ]
  },
  {
   "cell_type": "raw",
   "id": "5c93cf59-63a1-458f-a90e-9e8d2fa4faf0",
   "metadata": {},
   "source": [
    "Operators\n",
    "\n",
    "Arithmetic Operators : +, -, *, /, %, **\n",
    "Relational/Comparison Operators : ==, !=, >, <, >=, <=.\n",
    "Assignment Operators : =, +=, -=, *=, /=, %=, **=.\n",
    "Logical Operators : not, and, or\n"
   ]
  },
  {
   "cell_type": "code",
   "execution_count": 25,
   "id": "cfbc43f1-870f-483a-8816-5382bc766e30",
   "metadata": {},
   "outputs": [
    {
     "name": "stdout",
     "output_type": "stream",
     "text": [
      "40\n",
      "-10\n",
      "375\n",
      "0.6\n",
      "15\n"
     ]
    }
   ],
   "source": [
    "#Arithmetic Operators\n",
    "a=15\n",
    "b=25\n",
    "print(a+b)\n",
    "print(a-b)\n",
    "print(a*b)\n",
    "print(a/b)\n",
    "print(a%b) # reminder"
   ]
  },
  {
   "cell_type": "code",
   "execution_count": 27,
   "id": "2b12b564-f448-416a-a3f6-9d47f84f6130",
   "metadata": {},
   "outputs": [
    {
     "name": "stdout",
     "output_type": "stream",
     "text": [
      "False\n",
      "True\n",
      "True\n",
      "False\n",
      "False\n",
      "True\n"
     ]
    }
   ],
   "source": [
    "#Relational/Comparison Operators\n",
    "a=50\n",
    "b=25\n",
    "print(a==b)\n",
    "print(a!=b)\n",
    "print(a>=b)\n",
    "print(a<=b)\n",
    "print(a<b)\n",
    "print(a>b)"
   ]
  },
  {
   "cell_type": "code",
   "execution_count": 2,
   "id": "f09f1f62-0e31-4ef1-a74d-2ff14074cab4",
   "metadata": {},
   "outputs": [
    {
     "name": "stdout",
     "output_type": "stream",
     "text": [
      "num: 30\n"
     ]
    }
   ],
   "source": [
    "#Assignment Operators\n",
    "num = 10\n",
    "num=num+10\n",
    "num += 10\n",
    "print(\"num:\",num)"
   ]
  },
  {
   "cell_type": "code",
   "execution_count": 37,
   "id": "b556dd56-7471-431b-9050-0447e392ca47",
   "metadata": {},
   "outputs": [
    {
     "name": "stdout",
     "output_type": "stream",
     "text": [
      "True\n",
      "False\n"
     ]
    }
   ],
   "source": [
    "#Logical Operators\n",
    "a=40\n",
    "b=50\n",
    "print((a==b)or(a<b))\n",
    "print((a==b)and(a>b))"
   ]
  },
  {
   "cell_type": "markdown",
   "id": "aac586a2-7d8f-4002-9fe9-72d2561b3bf5",
   "metadata": {},
   "source": [
    "# Type Conversion"
   ]
  },
  {
   "cell_type": "code",
   "execution_count": 39,
   "id": "164d91cb-75b8-42ff-8c45-8ef23ca804e3",
   "metadata": {},
   "outputs": [
    {
     "name": "stdout",
     "output_type": "stream",
     "text": [
      "24\n",
      "<class 'int'>\n"
     ]
    }
   ],
   "source": [
    "#Type Conversion\n",
    "a=int(\"20\")\n",
    "b=4\n",
    "print(a+b)\n",
    "print(type(a))"
   ]
  },
  {
   "cell_type": "code",
   "execution_count": 62,
   "id": "3342cd8b-b4ba-4c5f-a7d3-6b590875047c",
   "metadata": {},
   "outputs": [
    {
     "name": "stdout",
     "output_type": "stream",
     "text": [
      "<class 'float'>\n"
     ]
    }
   ],
   "source": [
    "x=float(20)\n",
    "print(type(x))"
   ]
  },
  {
   "cell_type": "markdown",
   "id": "0acf345b-303b-459d-9858-06778c4bbadf",
   "metadata": {},
   "source": [
    "# Input"
   ]
  },
  {
   "cell_type": "code",
   "execution_count": 41,
   "id": "348826a3-01e6-4dcc-b265-ebf986b780c3",
   "metadata": {},
   "outputs": [
    {
     "name": "stdin",
     "output_type": "stream",
     "text": [
      "enter your name: Sami\n"
     ]
    },
    {
     "data": {
      "text/plain": [
       "'Sami'"
      ]
     },
     "execution_count": 41,
     "metadata": {},
     "output_type": "execute_result"
    }
   ],
   "source": [
    "#Input\n",
    "input(\"enter your name:\")"
   ]
  },
  {
   "cell_type": "code",
   "execution_count": 64,
   "id": "34c9ee52-1d67-4b36-bac3-5a5574e0d4af",
   "metadata": {},
   "outputs": [
    {
     "name": "stdin",
     "output_type": "stream",
     "text": [
      "enter:  sami\n"
     ]
    },
    {
     "name": "stdout",
     "output_type": "stream",
     "text": [
      "Welcome sami\n"
     ]
    }
   ],
   "source": [
    "name=input(\"enter: \")\n",
    "print(\"Welcome\",name)"
   ]
  },
  {
   "cell_type": "code",
   "execution_count": 45,
   "id": "32a5ad94-8f33-41dd-9cda-a920d5ea30e6",
   "metadata": {},
   "outputs": [
    {
     "name": "stdin",
     "output_type": "stream",
     "text": [
      "enter: 10\n"
     ]
    },
    {
     "name": "stdout",
     "output_type": "stream",
     "text": [
      "<class 'str'>\n"
     ]
    }
   ],
   "source": [
    "#input built in as a str\n",
    "var=input(\"enter:\")\n",
    "print(type(name))"
   ]
  },
  {
   "cell_type": "code",
   "execution_count": 47,
   "id": "8365c2a6-f8fd-4209-84ab-df23888f2e6d",
   "metadata": {},
   "outputs": [
    {
     "name": "stdin",
     "output_type": "stream",
     "text": [
      "enter: 10\n"
     ]
    },
    {
     "name": "stdout",
     "output_type": "stream",
     "text": [
      "<class 'int'>\n"
     ]
    }
   ],
   "source": [
    "var1=int(input(\"enter:\"))\n",
    "print(type(var1))"
   ]
  },
  {
   "cell_type": "code",
   "execution_count": 51,
   "id": "3f9268e5-f833-4114-a5cd-5e2e3c6f1fde",
   "metadata": {},
   "outputs": [
    {
     "name": "stdin",
     "output_type": "stream",
     "text": [
      "name: Sami\n",
      "age: 22\n",
      "cg: 0.0\n"
     ]
    },
    {
     "name": "stdout",
     "output_type": "stream",
     "text": [
      "Sami\n",
      "22\n",
      "0.0\n"
     ]
    }
   ],
   "source": [
    "name=input(\"name:\")\n",
    "age=int(input(\"age:\"))\n",
    "cg=float(input(\"cg:\"))\n",
    "\n",
    "print(name)\n",
    "print(age)\n",
    "print(cg)"
   ]
  },
  {
   "cell_type": "raw",
   "id": "f20d1b18-64e4-4d04-92de-45a44ce96e02",
   "metadata": {},
   "source": [
    "Example: Print True if a is greater than or equal to b If not print False"
   ]
  },
  {
   "cell_type": "code",
   "execution_count": 55,
   "id": "10916063-f29e-45d0-92cf-7162feadb835",
   "metadata": {},
   "outputs": [
    {
     "name": "stdin",
     "output_type": "stream",
     "text": [
      "number:  20\n",
      "number:  12\n"
     ]
    },
    {
     "name": "stdout",
     "output_type": "stream",
     "text": [
      "True\n"
     ]
    }
   ],
   "source": [
    "a=int(input(\"number: \"))\n",
    "b=int(input(\"number: \"))\n",
    "print(a>=b)\n"
   ]
  },
  {
   "cell_type": "markdown",
   "id": "a4b1990c-0e76-42c8-a40d-28b77eeb0bd7",
   "metadata": {},
   "source": [
    "Example 1:\n",
    "Write a Program to input 2 numbers & print their sum."
   ]
  },
  {
   "cell_type": "code",
   "execution_count": 7,
   "id": "8308f71f-795a-4d3b-a421-49aa9e5b8a4c",
   "metadata": {},
   "outputs": [
    {
     "name": "stdin",
     "output_type": "stream",
     "text": [
      "Enter the name: 19\n",
      "Enter the name: 12\n"
     ]
    },
    {
     "name": "stdout",
     "output_type": "stream",
     "text": [
      "31\n"
     ]
    }
   ],
   "source": [
    "num_1=int(input(\"Enter the name:\"))\n",
    "num_2=int(input(\"Enter the name:\"))\n",
    "\n",
    "sum=num_1+num_2\n",
    "print(sum)"
   ]
  },
  {
   "cell_type": "markdown",
   "id": "8fcc5d9e-c2ac-4932-b9d7-e965e0f70501",
   "metadata": {},
   "source": [
    "Example 2:\n",
    "Write a Program to input side of a square & print its area."
   ]
  },
  {
   "cell_type": "code",
   "execution_count": 11,
   "id": "1db065c1-f8ec-4914-a74f-6a9cd46d5201",
   "metadata": {},
   "outputs": [
    {
     "name": "stdin",
     "output_type": "stream",
     "text": [
      "Enter lenght: 2\n"
     ]
    },
    {
     "name": "stdout",
     "output_type": "stream",
     "text": [
      "4\n"
     ]
    }
   ],
   "source": [
    "side=int(input(\"Enter lenght:\"))\n",
    "area=side**2\n",
    "print(area)"
   ]
  },
  {
   "cell_type": "markdown",
   "id": "cbd4fa0a-946e-4dbd-a77a-3dc2dacbf966",
   "metadata": {},
   "source": [
    "Example 3: Write a program to input two numbers (one integer and one float), and print their sum, difference, and product."
   ]
  },
  {
   "cell_type": "code",
   "execution_count": 14,
   "id": "42c72f63-9b54-428b-945c-482fb6713568",
   "metadata": {},
   "outputs": [
    {
     "name": "stdin",
     "output_type": "stream",
     "text": [
      "Enter an integer:  12\n",
      "Enter a float number:  12\n"
     ]
    },
    {
     "name": "stdout",
     "output_type": "stream",
     "text": [
      "Sum: 24.0\n",
      "Difference: 0.0\n",
      "Product: 144.0\n"
     ]
    }
   ],
   "source": [
    "int_num = int(input(\"Enter an integer: \"))\n",
    "float_num = float(input(\"Enter a float number: \"))\n",
    "\n",
    "sum = int_num + float_num\n",
    "difference = int_num - float_num\n",
    "product = int_num * float_num\n",
    "\n",
    "print(\"Sum:\", sum)\n",
    "print(\"Difference:\", difference)\n",
    "print(\"Product:\", product)"
   ]
  },
  {
   "cell_type": "code",
   "execution_count": null,
   "id": "08f2cc17-fccf-4a37-a115-7b21d2c874d4",
   "metadata": {},
   "outputs": [],
   "source": []
  }
 ],
 "metadata": {
  "kernelspec": {
   "display_name": "Python 3 (ipykernel)",
   "language": "python",
   "name": "python3"
  },
  "language_info": {
   "codemirror_mode": {
    "name": "ipython",
    "version": 3
   },
   "file_extension": ".py",
   "mimetype": "text/x-python",
   "name": "python",
   "nbconvert_exporter": "python",
   "pygments_lexer": "ipython3",
   "version": "3.12.4"
  }
 },
 "nbformat": 4,
 "nbformat_minor": 5
}
